{
  "nbformat": 4,
  "nbformat_minor": 0,
  "metadata": {
    "colab": {
      "provenance": [],
      "authorship_tag": "ABX9TyOrdsU5GK1CQOeWC9f6VqwK",
      "include_colab_link": true
    },
    "kernelspec": {
      "name": "python3",
      "display_name": "Python 3"
    },
    "language_info": {
      "name": "python"
    }
  },
  "cells": [
    {
      "cell_type": "markdown",
      "metadata": {
        "id": "view-in-github",
        "colab_type": "text"
      },
      "source": [
        "<a href=\"https://colab.research.google.com/github/onelgo/onelgo/blob/main/calendar_backend.ipynb\" target=\"_parent\"><img src=\"https://colab.research.google.com/assets/colab-badge.svg\" alt=\"Open In Colab\"/></a>"
      ]
    },
    {
      "cell_type": "code",
      "execution_count": 19,
      "metadata": {
        "colab": {
          "base_uri": "https://localhost:8080/"
        },
        "collapsed": true,
        "id": "Gih5K3a9tsLP",
        "outputId": "d7919327-90dd-4bee-c210-1772d94692ec"
      },
      "outputs": [
        {
          "output_type": "stream",
          "name": "stdout",
          "text": [
            "Requirement already satisfied: Flask in /usr/local/lib/python3.10/dist-packages (2.2.5)\n",
            "Requirement already satisfied: Flask-SQLAlchemy in /usr/local/lib/python3.10/dist-packages (3.1.1)\n",
            "Requirement already satisfied: Werkzeug>=2.2.2 in /usr/local/lib/python3.10/dist-packages (from Flask) (3.0.6)\n",
            "Requirement already satisfied: Jinja2>=3.0 in /usr/local/lib/python3.10/dist-packages (from Flask) (3.1.4)\n",
            "Requirement already satisfied: itsdangerous>=2.0 in /usr/local/lib/python3.10/dist-packages (from Flask) (2.2.0)\n",
            "Requirement already satisfied: click>=8.0 in /usr/local/lib/python3.10/dist-packages (from Flask) (8.1.7)\n",
            "Requirement already satisfied: sqlalchemy>=2.0.16 in /usr/local/lib/python3.10/dist-packages (from Flask-SQLAlchemy) (2.0.36)\n",
            "Requirement already satisfied: MarkupSafe>=2.0 in /usr/local/lib/python3.10/dist-packages (from Jinja2>=3.0->Flask) (3.0.2)\n",
            "Requirement already satisfied: typing-extensions>=4.6.0 in /usr/local/lib/python3.10/dist-packages (from sqlalchemy>=2.0.16->Flask-SQLAlchemy) (4.12.2)\n",
            "Requirement already satisfied: greenlet!=0.4.17 in /usr/local/lib/python3.10/dist-packages (from sqlalchemy>=2.0.16->Flask-SQLAlchemy) (3.1.1)\n"
          ]
        }
      ],
      "source": [
        "pip install Flask Flask-SQLAlchemy"
      ]
    },
    {
      "cell_type": "code",
      "source": [
        "from flask import Flask, request, jsonify\n",
        "from flask_sqlalchemy import SQLAlchemy\n",
        "from datetime import datetime\n",
        "\n",
        "app = Flask(__name__)\n",
        "app.config['SQLALCHEMY_DATABASE_URI'] = 'sqlite:///calendar.db'\n",
        "app.config['SQLALCHEMY_TRACK_MODIFICATIONS'] = False\n",
        "db = SQLAlchemy(app)"
      ],
      "metadata": {
        "id": "6PW-p0wft9uG"
      },
      "execution_count": 20,
      "outputs": []
    },
    {
      "cell_type": "code",
      "source": [
        "class Event(db.Model):\n",
        "    id = db.Column(db.Integer, primary_key=True)\n",
        "    title = db.Column(db.String(100), nullable=False)\n",
        "    description = db.Column(db.Text, nullable=True)\n",
        "    date = db.Column(db.Date, nullable=False)\n",
        "\n",
        "    def to_dict(self):\n",
        "        return {\n",
        "            \"id\": self.id,\n",
        "            \"title\": self.title,\n",
        "            \"description\": self.description,\n",
        "            \"date\": self.date.strftime(\"%Y-%m-%d\")\n",
        "        }\n",
        "\n",
        "# Initialize the database (run this once to create the database)\n",
        "with app.app_context():\n",
        "    db.create_all()"
      ],
      "metadata": {
        "id": "kO-wFtxDvInY"
      },
      "execution_count": 21,
      "outputs": []
    },
    {
      "cell_type": "code",
      "source": [
        "# Create a new event\n",
        "@app.route('/events', methods=['POST'])\n",
        "def create_event():\n",
        "    data = request.get_json()\n",
        "    new_event = Event(\n",
        "        title=data['title'],\n",
        "        description=data.get('description'),\n",
        "        date=datetime.strptime(data['date'], \"%Y-%m-%d\")\n",
        "    )\n",
        "    db.session.add(new_event)\n",
        "    db.session.commit()\n",
        "    return jsonify({\"message\": \"Event created!\", \"event\": new_event.to_dict()}), 201\n",
        "\n",
        "# Get all events\n",
        "@app.route('/events', methods=['GET'])\n",
        "def get_events():\n",
        "    events = Event.query.all()\n",
        "    return jsonify([event.to_dict() for event in events])\n",
        "\n",
        "# Get a single event by ID\n",
        "@app.route('/events/<int:event_id>', methods=['GET'])\n",
        "def get_event(event_id):\n",
        "    event = Event.query.get_or_404(event_id)\n",
        "    return jsonify(event.to_dict())\n",
        "\n",
        "# Update an event\n",
        "@app.route('/events/<int:event_id>', methods=['PUT'])\n",
        "def update_event(event_id):\n",
        "    data = request.get_json()\n",
        "    event = Event.query.get_or_404(event_id)\n",
        "    event.title = data['title']\n",
        "    event.description = data.get('description')\n",
        "    event.date = datetime.strptime(data['date'], \"%Y-%m-%d\")\n",
        "    db.session.commit()\n",
        "    return jsonify({\"message\": \"Event updated!\", \"event\": event.to_dict()})\n",
        "\n",
        "# Delete an event\n",
        "@app.route('/events/<int:event_id>', methods=['DELETE'])\n",
        "def delete_event(event_id):\n",
        "    event = Event.query.get_or_404(event_id)\n",
        "    db.session.delete(event)\n",
        "    db.session.commit()\n",
        "    return jsonify({\"message\": \"Event deleted!\"})"
      ],
      "metadata": {
        "id": "8nQCGojSvqau"
      },
      "execution_count": 22,
      "outputs": []
    },
    {
      "cell_type": "code",
      "source": [
        "flask run"
      ],
      "metadata": {
        "colab": {
          "base_uri": "https://localhost:8080/"
        },
        "id": "guqzGbrCwVpB",
        "outputId": "cae2899a-27dc-4c68-c1e7-87ffeebd9c8f"
      },
      "execution_count": 23,
      "outputs": [
        {
          "output_type": "stream",
          "name": "stdout",
          "text": [
            " * Serving Flask app '__main__'\n",
            " * Debug mode: off\n"
          ]
        },
        {
          "output_type": "stream",
          "name": "stderr",
          "text": [
            "INFO:werkzeug:\u001b[31m\u001b[1mWARNING: This is a development server. Do not use it in a production deployment. Use a production WSGI server instead.\u001b[0m\n",
            " * Running on http://127.0.0.1:5000\n",
            "INFO:werkzeug:\u001b[33mPress CTRL+C to quit\u001b[0m\n"
          ]
        }
      ]
    },
    {
      "cell_type": "code",
      "source": [
        "POST /events\n",
        "{\n",
        "    \"title\": \"Birthday\",\n",
        "    \"description\": \"Ali's Birthday\",\n",
        "    \"date\": \"2014-12-01\"\n",
        "}\n"
      ],
      "metadata": {
        "colab": {
          "base_uri": "https://localhost:8080/",
          "height": 216
        },
        "collapsed": true,
        "id": "y0h6vxqg3rGQ",
        "outputId": "4a5808a6-f508-4eba-be79-9a9ffd8896c2"
      },
      "execution_count": 24,
      "outputs": [
        {
          "output_type": "error",
          "ename": "NameError",
          "evalue": "name 'POST' is not defined",
          "traceback": [
            "\u001b[0;31m---------------------------------------------------------------------------\u001b[0m",
            "\u001b[0;31mNameError\u001b[0m                                 Traceback (most recent call last)",
            "\u001b[0;32m<ipython-input-24-a9581eff1bb1>\u001b[0m in \u001b[0;36m<cell line: 1>\u001b[0;34m()\u001b[0m\n\u001b[0;32m----> 1\u001b[0;31m \u001b[0mPOST\u001b[0m \u001b[0;34m/\u001b[0m\u001b[0mevents\u001b[0m\u001b[0;34m\u001b[0m\u001b[0;34m\u001b[0m\u001b[0m\n\u001b[0m\u001b[1;32m      2\u001b[0m {\n\u001b[1;32m      3\u001b[0m     \u001b[0;34m\"title\"\u001b[0m\u001b[0;34m:\u001b[0m \u001b[0;34m\"Birthday\"\u001b[0m\u001b[0;34m,\u001b[0m\u001b[0;34m\u001b[0m\u001b[0;34m\u001b[0m\u001b[0m\n\u001b[1;32m      4\u001b[0m     \u001b[0;34m\"description\"\u001b[0m\u001b[0;34m:\u001b[0m \u001b[0;34m\"Ali's Birthday\"\u001b[0m\u001b[0;34m,\u001b[0m\u001b[0;34m\u001b[0m\u001b[0;34m\u001b[0m\u001b[0m\n\u001b[1;32m      5\u001b[0m     \u001b[0;34m\"date\"\u001b[0m\u001b[0;34m:\u001b[0m \u001b[0;34m\"2014-12-01\"\u001b[0m\u001b[0;34m\u001b[0m\u001b[0;34m\u001b[0m\u001b[0m\n",
            "\u001b[0;31mNameError\u001b[0m: name 'POST' is not defined"
          ]
        }
      ]
    },
    {
      "cell_type": "code",
      "source": [
        "GET /events"
      ],
      "metadata": {
        "id": "UOsRl7gKUUMW"
      },
      "execution_count": null,
      "outputs": []
    }
  ]
}